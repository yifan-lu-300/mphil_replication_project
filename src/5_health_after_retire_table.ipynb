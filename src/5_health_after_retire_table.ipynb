{
 "cells": [
  {
   "cell_type": "code",
   "execution_count": 1,
   "metadata": {},
   "outputs": [],
   "source": [
    "import os\n",
    "import pandas as pd\n",
    "import numpy as np\n",
    "import statsmodels.formula.api as smf\n",
    "import plotnine as pn\n",
    "from sspipe import p, px\n",
    "\n",
    "# Set up paths\n",
    "derived_path = os.path.abspath('..') | p(os.path.join, 'data', 'derived')\n",
    "\n",
    "# Read data\n",
    "sample = pd.read_csv(os.path.join(derived_path, 'sample_simulate_retire.csv'))"
   ]
  },
  {
   "cell_type": "code",
   "execution_count": 2,
   "metadata": {},
   "outputs": [],
   "source": [
    "# Any newly diagnosed disease\n",
    "disease_list = ['angina', 'heart_attack', 'diabetes', 'stroke', 'arthritis', 'cancer', 'psych']\n",
    "sample['any_post'] = (sample[[disease + '_post' for disease in disease_list]] == 1).any(axis=1)"
   ]
  },
  {
   "cell_type": "code",
   "execution_count": 3,
   "metadata": {},
   "outputs": [],
   "source": [
    "vars = ['any_post'] + [disease + '_post' for disease in disease_list] + ['poor_health_3', 'limit_3', 'adl_3']"
   ]
  },
  {
   "cell_type": "code",
   "execution_count": 4,
   "metadata": {},
   "outputs": [],
   "source": [
    "df = sample.groupby(['treatment'])[vars].mean().round(3).T\n",
    "df.rename(columns={1: 'Retired', 0: 'Employed'}, inplace=True)\n",
    "df = df[['Employed', 'Retired']]\n",
    "df.index = ['Any newly diagnosed disease', \n",
    "            'Newly diagnosed angina', 'New heart attack', 'New stroke', 'Newly diagnosed diabetes',\n",
    "            'Newly diagnosed arthritis', 'Newly diagnosed cancer', 'Newly diagnosed psychiatric problem',\n",
    "            'Poor self-assessed health', 'Limiting long-standing illness', 'Number of difficulties in ADL']"
   ]
  },
  {
   "cell_type": "code",
   "execution_count": 5,
   "metadata": {},
   "outputs": [
    {
     "name": "stdout",
     "output_type": "stream",
     "text": [
      "\\begin{tabular}{lrr}\n",
      "\\toprule\n",
      "treatment & Employed & Retired \\\\\n",
      "\\midrule\n",
      "Any newly diagnosed disease & 0.03 & 0.17 \\\\\n",
      "Newly diagnosed angina & 0.00 & 0.01 \\\\\n",
      "New heart attack & 0.00 & 0.02 \\\\\n",
      "New stroke & 0.00 & 0.03 \\\\\n",
      "Newly diagnosed diabetes & 0.00 & 0.01 \\\\\n",
      "Newly diagnosed arthritis & 0.02 & 0.10 \\\\\n",
      "Newly diagnosed cancer & 0.00 & 0.03 \\\\\n",
      "Newly diagnosed psychiatric problem & 0.01 & 0.02 \\\\\n",
      "Poor self-assessed health & 0.01 & 0.05 \\\\\n",
      "Limiting long-standing illness & 0.15 & 0.27 \\\\\n",
      "Number of difficulties in ADL & 0.79 & 1.30 \\\\\n",
      "\\bottomrule\n",
      "\\end{tabular}\n",
      "\n"
     ]
    }
   ],
   "source": [
    "print(df.to_latex(float_format=\"%.2f\"))"
   ]
  },
  {
   "cell_type": "markdown",
   "metadata": {},
   "source": [
    "**Difference**\n",
    "Numbers for retired individuals should be identical, since their retirement dates are not imputed.\n",
    "\n",
    "Different items:\n",
    "- Newly diagnosed angina\n",
    "- New heart attack (not much)\n",
    "- New stroke (not much)\n",
    "- Newly diagnosed arthritis (not much)\n",
    "- Newly diagnosed cancer (not much)\n",
    "- Newly diagnosed psych (not much)\n",
    "- Limiting long-standing illness\n",
    "- Number of difficulties in ADL\n",
    "\n"
   ]
  },
  {
   "cell_type": "markdown",
   "metadata": {},
   "source": []
  }
 ],
 "metadata": {
  "kernelspec": {
   "display_name": "base",
   "language": "python",
   "name": "python3"
  },
  "language_info": {
   "codemirror_mode": {
    "name": "ipython",
    "version": 3
   },
   "file_extension": ".py",
   "mimetype": "text/x-python",
   "name": "python",
   "nbconvert_exporter": "python",
   "pygments_lexer": "ipython3",
   "version": "3.11.3"
  }
 },
 "nbformat": 4,
 "nbformat_minor": 2
}
