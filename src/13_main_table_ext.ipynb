{
 "cells": [
  {
   "cell_type": "code",
   "execution_count": 1,
   "metadata": {
    "ExecuteTime": {
     "end_time": "2024-02-05T14:58:01.009861Z",
     "start_time": "2024-02-05T14:58:00.283402Z"
    },
    "collapsed": true
   },
   "outputs": [],
   "source": [
    "import os\n",
    "import pandas as pd\n",
    "import numpy as np\n",
    "from sspipe import p, px\n",
    "\n",
    "# Set up paths\n",
    "derived_path = os.path.abspath('..') | p(os.path.join, 'data', 'derived')\n",
    "# Read data\n",
    "table_data = pd.read_csv(os.path.join(derived_path, 'main_table_ext.csv'))"
   ]
  },
  {
   "cell_type": "code",
   "execution_count": 2,
   "metadata": {
    "ExecuteTime": {
     "end_time": "2024-02-05T14:58:15.574250Z",
     "start_time": "2024-02-05T14:58:15.566694Z"
    },
    "collapsed": false
   },
   "outputs": [],
   "source": [
    "# Round\n",
    "main_table = table_data.apply(lambda row: round(row, 3) if (row.name + 1) % 2 == 1 else round(row, 2),\n",
    "                              axis=1)"
   ]
  },
  {
   "cell_type": "code",
   "execution_count": 3,
   "metadata": {
    "ExecuteTime": {
     "end_time": "2024-02-05T14:58:20.272718Z",
     "start_time": "2024-02-05T14:58:20.262142Z"
    },
    "collapsed": false
   },
   "outputs": [],
   "source": [
    "# Add * to indicate statistical significance\n",
    "for i in np.arange(0, 18, 2):\n",
    "    for j in range(4):\n",
    "        if abs(main_table.iloc[i + 1, j]) >= 3.29:\n",
    "            main_table.iloc[i, j] = str(main_table.iloc[i, j]) + '***'\n",
    "        elif abs(main_table.iloc[i + 1, j]) >= 1.96:\n",
    "            main_table.iloc[i, j] = str(main_table.iloc[i, j]) + '**'"
   ]
  },
  {
   "cell_type": "code",
   "execution_count": 4,
   "metadata": {
    "ExecuteTime": {
     "end_time": "2024-02-05T14:58:21.052971Z",
     "start_time": "2024-02-05T14:58:21.036673Z"
    },
    "collapsed": false
   },
   "outputs": [],
   "source": [
    "# Add square brackets to t-values\n",
    "main_table = main_table.apply(lambda row: '[' + row.astype(str) + ']' if row.name % 2 == 1 else row,\n",
    "                              axis=1)"
   ]
  },
  {
   "cell_type": "code",
   "execution_count": 5,
   "metadata": {
    "ExecuteTime": {
     "end_time": "2024-02-05T14:58:26.834923Z",
     "start_time": "2024-02-05T14:58:26.828053Z"
    },
    "collapsed": false
   },
   "outputs": [],
   "source": [
    "# Change index\n",
    "main_table.index = ['Any chronic disease', '', 'Angina, heart attack or stroke', '', 'Angina', '', 'Heart attack', '', 'Stroke',\n",
    "                    '', 'Diabetes', '', 'Arthritis', '', 'Cancer', '', 'Psychiatric', '']\n",
    "# Change column names\n",
    "main_table.rename(columns={'Xset1': 'ATET\\nXset 1', 'Xset2': 'ATET\\nXset 2', 'Xset3': 'ATET\\nXset 3', 'Xset4': 'ATET\\nXset 4'},\n",
    "                  inplace=True)"
   ]
  },
  {
   "cell_type": "code",
   "execution_count": 7,
   "metadata": {
    "ExecuteTime": {
     "end_time": "2024-02-04T22:54:14.516234Z",
     "start_time": "2024-02-04T22:54:14.483060Z"
    },
    "collapsed": false
   },
   "outputs": [
    {
     "name": "stdout",
     "output_type": "stream",
     "text": [
      "\\begin{tabular}{lllll}\n",
      "\\toprule\n",
      " & ATET\n",
      "Xset 1 & ATET\n",
      "Xset 2 & ATET\n",
      "Xset 3 & ATET\n",
      "Xset 4 \\\\\n",
      "\\midrule\n",
      "Any chronic disease & 0.085*** & 0.078*** & 0.087*** & 0.198 \\\\\n",
      " & [4.1] & [3.57] & [4.29] & [1.57] \\\\\n",
      "Angina, heart attack or stroke & 0.033** & 0.027** & 0.033** & 0.018 \\\\\n",
      " & [2.7] & [2.04] & [2.77] & [0.35] \\\\\n",
      "Angina & 0.011** & 0.012** & 0.012** & 0.008 \\\\\n",
      " & [2.54] & [2.53] & [2.82] & [0.9] \\\\\n",
      "Heart attack & 0.011 & 0.013 & 0.012 & 0.029 \\\\\n",
      " & [1.6] & [1.69] & [1.81] & [1.28] \\\\\n",
      "Stroke & 0.022** & 0.014 & 0.021** & -0.011 \\\\\n",
      " & [2.14] & [1.28] & [2.09] & [-0.24] \\\\\n",
      "Diabetes & 0.003 & 0.004 & 0.005 & 0.041 \\\\\n",
      " & [1.08] & [1.08] & [1.77] & [1.42] \\\\\n",
      "Arthritis & 0.049** & 0.043** & 0.05** & 0.024 \\\\\n",
      " & [3.11] & [2.57] & [3.25] & [0.23] \\\\\n",
      "Cancer & 0.019** & 0.010 & 0.018** & 0.061 \\\\\n",
      " & [2.78] & [1.5] & [2.64] & [1.66] \\\\\n",
      "Psychiatric & -0.003 & 0.002 & -0.003 & 0.070 \\\\\n",
      " & [-0.55] & [0.41] & [-0.46] & [1.69] \\\\\n",
      "\\bottomrule\n",
      "\\end{tabular}\n",
      "\n"
     ]
    }
   ],
   "source": [
    "# Get LaTeX code\n",
    "print(main_table.to_latex(float_format=\"%.3f\"))"
   ]
  },
  {
   "cell_type": "code",
   "execution_count": null,
   "metadata": {
    "collapsed": false
   },
   "outputs": [],
   "source": []
  }
 ],
 "metadata": {
  "kernelspec": {
   "display_name": "Python 3",
   "language": "python",
   "name": "python3"
  },
  "language_info": {
   "codemirror_mode": {
    "name": "ipython",
    "version": 3
   },
   "file_extension": ".py",
   "mimetype": "text/x-python",
   "name": "python",
   "nbconvert_exporter": "python",
   "pygments_lexer": "ipython3",
   "version": "3.11.3"
  }
 },
 "nbformat": 4,
 "nbformat_minor": 0
}
