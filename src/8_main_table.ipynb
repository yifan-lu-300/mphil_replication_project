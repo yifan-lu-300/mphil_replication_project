{
 "cells": [
  {
   "cell_type": "code",
   "execution_count": 11,
   "metadata": {
    "collapsed": true,
    "ExecuteTime": {
     "end_time": "2024-02-04T21:22:45.036304Z",
     "start_time": "2024-02-04T21:22:45.010831Z"
    }
   },
   "outputs": [],
   "source": [
    "import os\n",
    "import pandas as pd\n",
    "import numpy as np\n",
    "from sspipe import p, px\n",
    "\n",
    "# Set up paths\n",
    "derived_path = os.path.abspath('..') | p(os.path.join, 'data', 'derived')\n",
    "# Read data\n",
    "table_data = pd.read_csv(os.path.join(derived_path, 'main_table.csv'))"
   ]
  },
  {
   "cell_type": "code",
   "execution_count": 20,
   "outputs": [],
   "source": [
    "# Round\n",
    "main_table = table_data.apply(lambda row: round(row, 3) if (row.name + 1) % 2 == 1 else round(row, 2),\n",
    "                              axis=1)"
   ],
   "metadata": {
    "collapsed": false,
    "ExecuteTime": {
     "end_time": "2024-02-04T22:42:24.936970Z",
     "start_time": "2024-02-04T22:42:24.932560Z"
    }
   }
  },
  {
   "cell_type": "code",
   "execution_count": 21,
   "outputs": [],
   "source": [
    "# Add * to indicate statistical significance\n",
    "for i in np.arange(0, 18, 2):\n",
    "    for j in range(4):\n",
    "        if abs(main_table.iloc[i + 1, j]) >= 3.29:\n",
    "            main_table.iloc[i, j] = str(main_table.iloc[i, j]) + '***'\n",
    "        elif abs(main_table.iloc[i + 1, j]) >= 1.96:\n",
    "            main_table.iloc[i, j] = str(main_table.iloc[i, j]) + '**'"
   ],
   "metadata": {
    "collapsed": false,
    "ExecuteTime": {
     "end_time": "2024-02-04T22:42:26.947692Z",
     "start_time": "2024-02-04T22:42:26.936323Z"
    }
   }
  },
  {
   "cell_type": "code",
   "execution_count": 22,
   "outputs": [],
   "source": [
    "# Add square brackets to t-values\n",
    "main_table = main_table.apply(lambda row: '[' + row.astype(str) + ']' if row.name % 2 == 1 else row,\n",
    "                              axis=1)"
   ],
   "metadata": {
    "collapsed": false,
    "ExecuteTime": {
     "end_time": "2024-02-04T22:42:37.883636Z",
     "start_time": "2024-02-04T22:42:37.880656Z"
    }
   }
  },
  {
   "cell_type": "code",
   "execution_count": 24,
   "outputs": [],
   "source": [
    "# Change index\n",
    "main_table.index = ['Any chronic disease', '', 'Angina, heart attack or stroke', '', 'Angina', '', 'Heart attack', '', 'Stroke',\n",
    "                    '', 'Diabetes', '', 'Arthritis', '', 'Cancer', '', 'Psychiatric', '']\n",
    "# Change column names\n",
    "main_table.rename(columns={'Xset1': 'ATET\\nXset 1', 'Xset2': 'ATET\\nXset 2', 'Xset3': 'ATET\\nXset 3', 'Xset4': 'ATET\\nXset 4'},\n",
    "                  inplace=True)"
   ],
   "metadata": {
    "collapsed": false,
    "ExecuteTime": {
     "end_time": "2024-02-04T22:54:12.147017Z",
     "start_time": "2024-02-04T22:54:12.141893Z"
    }
   }
  },
  {
   "cell_type": "code",
   "execution_count": 25,
   "outputs": [
    {
     "name": "stdout",
     "output_type": "stream",
     "text": [
      "\\begin{tabular}{lllll}\n",
      "\\toprule\n",
      " & ATET\n",
      "Xset 1 & ATET\n",
      "Xset 2 & ATET\n",
      "Xset 3 & ATET\n",
      "Xset 4 \\\\\n",
      "\\midrule\n",
      "Any chronic disease & 0.072** & 0.064** & 0.075** & 0.099000 \\\\\n",
      " & [3.09] & [2.61] & [3.27] & [0.72] \\\\\n",
      "Angina, heart attack or stroke & 0.033** & 0.027** & 0.035** & 0.018000 \\\\\n",
      " & [2.55] & [2.01] & [2.71] & [0.35] \\\\\n",
      "Angina & 0.010000 & 0.011000 & 0.010000 & 0.008000 \\\\\n",
      " & [1.55] & [1.77] & [1.62] & [0.9] \\\\\n",
      "Heart attack & 0.011000 & 0.013000 & 0.014** & 0.029000 \\\\\n",
      " & [1.64] & [1.74] & [2.04] & [1.28] \\\\\n",
      "Stroke & 0.023** & 0.015000 & 0.023** & -0.011000 \\\\\n",
      " & [2.27] & [1.45] & [2.28] & [-0.24] \\\\\n",
      "Diabetes & 0.003000 & 0.004000 & 0.005000 & 0.041000 \\\\\n",
      " & [1.08] & [1.09] & [1.77] & [1.42] \\\\\n",
      "Arthritis & 0.034000 & 0.026000 & 0.034000 & -0.078000 \\\\\n",
      " & [1.83] & [1.35] & [1.89] & [-0.67] \\\\\n",
      "Cancer & 0.017** & 0.008000 & 0.016** & 0.061000 \\\\\n",
      " & [2.24] & [1.01] & [2.09] & [1.66] \\\\\n",
      "Psychiatric & -0.002000 & 0.003000 & -0.002000 & 0.070000 \\\\\n",
      " & [-0.3] & [0.47] & [-0.27] & [1.69] \\\\\n",
      "\\bottomrule\n",
      "\\end{tabular}\n",
      "\n"
     ]
    }
   ],
   "source": [
    "# Get LaTeX code\n",
    "print(main_table.to_latex())"
   ],
   "metadata": {
    "collapsed": false,
    "ExecuteTime": {
     "end_time": "2024-02-04T22:54:14.516234Z",
     "start_time": "2024-02-04T22:54:14.483060Z"
    }
   }
  },
  {
   "cell_type": "code",
   "execution_count": null,
   "outputs": [],
   "source": [],
   "metadata": {
    "collapsed": false
   }
  }
 ],
 "metadata": {
  "kernelspec": {
   "display_name": "Python 3",
   "language": "python",
   "name": "python3"
  },
  "language_info": {
   "codemirror_mode": {
    "name": "ipython",
    "version": 2
   },
   "file_extension": ".py",
   "mimetype": "text/x-python",
   "name": "python",
   "nbconvert_exporter": "python",
   "pygments_lexer": "ipython2",
   "version": "2.7.6"
  }
 },
 "nbformat": 4,
 "nbformat_minor": 0
}
