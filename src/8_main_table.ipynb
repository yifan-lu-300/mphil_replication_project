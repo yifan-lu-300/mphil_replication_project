{
 "cells": [
  {
   "cell_type": "code",
   "execution_count": 7,
   "metadata": {
    "ExecuteTime": {
     "end_time": "2024-02-04T21:22:45.036304Z",
     "start_time": "2024-02-04T21:22:45.010831Z"
    },
    "collapsed": true
   },
   "outputs": [],
   "source": [
    "import os\n",
    "import pandas as pd\n",
    "import numpy as np\n",
    "from sspipe import p, px\n",
    "\n",
    "# Set up paths\n",
    "derived_path = os.path.abspath('..') | p(os.path.join, 'data', 'derived')\n",
    "# Read data\n",
    "table_data = pd.read_csv(os.path.join(derived_path, 'main_table.csv'))"
   ]
  },
  {
   "cell_type": "code",
   "execution_count": 8,
   "metadata": {
    "ExecuteTime": {
     "end_time": "2024-02-04T22:42:24.936970Z",
     "start_time": "2024-02-04T22:42:24.932560Z"
    },
    "collapsed": false
   },
   "outputs": [],
   "source": [
    "# Round\n",
    "main_table = table_data.apply(lambda row: round(row, 3) if (row.name + 1) % 2 == 1 else round(row, 2),\n",
    "                              axis=1)"
   ]
  },
  {
   "cell_type": "code",
   "execution_count": 9,
   "metadata": {
    "ExecuteTime": {
     "end_time": "2024-02-04T22:42:26.947692Z",
     "start_time": "2024-02-04T22:42:26.936323Z"
    },
    "collapsed": false
   },
   "outputs": [],
   "source": [
    "# Add * to indicate statistical significance\n",
    "for i in np.arange(0, 18, 2):\n",
    "    for j in range(4):\n",
    "        if abs(main_table.iloc[i + 1, j]) >= 3.29:\n",
    "            main_table.iloc[i, j] = str(main_table.iloc[i, j]) + '***'\n",
    "        elif abs(main_table.iloc[i + 1, j]) >= 1.96:\n",
    "            main_table.iloc[i, j] = str(main_table.iloc[i, j]) + '**'"
   ]
  },
  {
   "cell_type": "code",
   "execution_count": 10,
   "metadata": {
    "ExecuteTime": {
     "end_time": "2024-02-04T22:42:37.883636Z",
     "start_time": "2024-02-04T22:42:37.880656Z"
    },
    "collapsed": false
   },
   "outputs": [],
   "source": [
    "# Add square brackets to t-values\n",
    "main_table = main_table.apply(lambda row: '[' + row.astype(str) + ']' if row.name % 2 == 1 else row,\n",
    "                              axis=1)"
   ]
  },
  {
   "cell_type": "code",
   "execution_count": 11,
   "metadata": {
    "ExecuteTime": {
     "end_time": "2024-02-04T22:54:12.147017Z",
     "start_time": "2024-02-04T22:54:12.141893Z"
    },
    "collapsed": false
   },
   "outputs": [],
   "source": [
    "# Change index\n",
    "main_table.index = ['Any chronic disease', '', 'Angina, heart attack or stroke', '', 'Angina', '', 'Heart attack', '', 'Stroke',\n",
    "                    '', 'Diabetes', '', 'Arthritis', '', 'Cancer', '', 'Psychiatric', '']\n",
    "# Change column names\n",
    "main_table.rename(columns={'Xset1': 'ATET\\nXset 1', 'Xset2': 'ATET\\nXset 2', 'Xset3': 'ATET\\nXset 3', 'Xset4': 'ATET\\nXset 4'},\n",
    "                  inplace=True)"
   ]
  },
  {
   "cell_type": "code",
   "execution_count": 12,
   "metadata": {
    "ExecuteTime": {
     "end_time": "2024-02-04T22:54:14.516234Z",
     "start_time": "2024-02-04T22:54:14.483060Z"
    },
    "collapsed": false
   },
   "outputs": [
    {
     "name": "stdout",
     "output_type": "stream",
     "text": [
      "\\begin{tabular}{lllll}\n",
      "\\toprule\n",
      " & ATET\n",
      "Xset 1 & ATET\n",
      "Xset 2 & ATET\n",
      "Xset 3 & ATET\n",
      "Xset 4 \\\\\n",
      "\\midrule\n",
      "Any chronic disease & 0.091*** & 0.085*** & 0.093*** & 0.127 \\\\\n",
      " & [4.06] & [3.65] & [4.21] & [1.06] \\\\\n",
      "Angina, heart attack or stroke & 0.038** & 0.033** & 0.038** & 0.063 \\\\\n",
      " & [3.2] & [2.67] & [3.26] & [1.82] \\\\\n",
      "Angina & 0.010 & 0.010 & 0.010 & 0.008 \\\\\n",
      " & [1.53] & [1.76] & [1.61] & [0.9] \\\\\n",
      "Heart attack & 0.012 & 0.014 & 0.014** & 0.029 \\\\\n",
      " & [1.72] & [1.89] & [1.99] & [1.28] \\\\\n",
      "Stroke & 0.028** & 0.02** & 0.027** & 0.034 \\\\\n",
      " & [3.16] & [2.22] & [3.12] & [1.34] \\\\\n",
      "Diabetes & 0.003 & 0.004 & 0.006 & 0.041 \\\\\n",
      " & [0.74] & [0.82] & [1.35] & [1.42] \\\\\n",
      "Arthritis & 0.045** & 0.038** & 0.046** & -0.056 \\\\\n",
      " & [2.59] & [2.06] & [2.65] & [-0.52] \\\\\n",
      "Cancer & 0.022*** & 0.014** & 0.021*** & 0.040 \\\\\n",
      " & [3.52] & [2.28] & [3.4] & [1.35] \\\\\n",
      "Psychiatric & -0.004 & 0.002 & -0.004 & 0.016 \\\\\n",
      " & [-0.43] & [0.18] & [-0.46] & [0.35] \\\\\n",
      "\\bottomrule\n",
      "\\end{tabular}\n",
      "\n"
     ]
    }
   ],
   "source": [
    "# Get LaTeX code\n",
    "print(main_table.to_latex(float_format=\"%.3f\"))"
   ]
  },
  {
   "cell_type": "code",
   "execution_count": null,
   "metadata": {
    "collapsed": false
   },
   "outputs": [],
   "source": []
  }
 ],
 "metadata": {
  "kernelspec": {
   "display_name": "Python 3",
   "language": "python",
   "name": "python3"
  },
  "language_info": {
   "codemirror_mode": {
    "name": "ipython",
    "version": 3
   },
   "file_extension": ".py",
   "mimetype": "text/x-python",
   "name": "python",
   "nbconvert_exporter": "python",
   "pygments_lexer": "ipython3",
   "version": "3.11.3"
  }
 },
 "nbformat": 4,
 "nbformat_minor": 0
}
