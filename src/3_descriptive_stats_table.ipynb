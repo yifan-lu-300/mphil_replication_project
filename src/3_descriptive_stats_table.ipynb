{
 "cells": [
  {
   "cell_type": "code",
   "execution_count": 1,
   "metadata": {
    "ExecuteTime": {
     "end_time": "2023-11-30T10:40:54.234893Z",
     "start_time": "2023-11-30T10:40:53.639532Z"
    },
    "collapsed": true
   },
   "outputs": [],
   "source": [
    "import os\n",
    "import pandas as pd\n",
    "import numpy as np\n",
    "from sspipe import p"
   ]
  },
  {
   "cell_type": "code",
   "execution_count": 2,
   "metadata": {
    "ExecuteTime": {
     "end_time": "2023-11-30T10:41:16.237383Z",
     "start_time": "2023-11-30T10:41:16.232823Z"
    },
    "collapsed": false
   },
   "outputs": [],
   "source": [
    "# set up paths\n",
    "origin_path = os.path.abspath('..') | p(os.path.join, 'data', 'tab')\n",
    "derived_path = os.path.abspath('..') | p(os.path.join, 'data', 'derived')"
   ]
  },
  {
   "cell_type": "code",
   "execution_count": 3,
   "metadata": {
    "ExecuteTime": {
     "end_time": "2023-11-30T10:41:28.544132Z",
     "start_time": "2023-11-30T10:41:28.504724Z"
    },
    "collapsed": false
   },
   "outputs": [],
   "source": [
    "# read data\n",
    "sample = pd.read_csv(os.path.join(derived_path, 'sample_cleaned.csv'), low_memory=False)"
   ]
  },
  {
   "cell_type": "code",
   "execution_count": 4,
   "metadata": {
    "ExecuteTime": {
     "end_time": "2023-11-30T10:50:53.617455Z",
     "start_time": "2023-11-30T10:50:53.613845Z"
    },
    "collapsed": false
   },
   "outputs": [],
   "source": [
    "# descriptive variables\n",
    "desc_vars = ['sex_1', 'age_2002', 'married_1', 'grandchild_1', 'outside_uk_1',\n",
    "             'degree_1', 'below_degree_1', 'a_levels_1', 'o_levels_1', 'no_qual_1',\n",
    "             'job_years_1', 'job_permanent_1', 'job_30h_1', 'reach_spa_2004', 'early_retire_incentive_1',\n",
    "             'pen_db_1', 'pen_dc_1', 'pen_private_1', 'total_pension_2002', 'total_wealth_1', 'empinc_r_s_1',\n",
    "             'adl_1', 'poor_health_1', 'cardio_1', 'noncardio_1', 'ex_alive_1', 'ex_work_1', 'ex_limit_1']"
   ]
  },
  {
   "cell_type": "code",
   "execution_count": 5,
   "metadata": {
    "ExecuteTime": {
     "end_time": "2023-11-30T11:41:20.076299Z",
     "start_time": "2023-11-30T11:41:20.066050Z"
    },
    "collapsed": false
   },
   "outputs": [],
   "source": [
    "desc_df = sample.groupby(['treatment'])[desc_vars].mean().round(2).T\n",
    "desc_df.rename(columns={1: 'Retired', 0: 'Employed'}, inplace=True)\n",
    "desc_df = desc_df[['Employed', 'Retired']]\n",
    "desc_df.index = ['Female', 'Age in year 2002', 'Married or cohabiting', 'Has grandchildren', 'Country of birth outside the UK',\n",
    "                 'University degree', 'Higher education below degree', 'A levels', 'O levels', 'No qualification',\n",
    "                 'Number of years worked in current job', 'Current job is permanent', '1-30h work per week at current job',\n",
    "                 'Will reach state pension age at wave 2 interview', 'Has been offered early retirement incentives',\n",
    "                 'Has defined benefit pension scheme', 'Has defined contribution pension scheme',\n",
    "                 'Has any private pension scheme', 'Total pension wealth in 2002', 'Net (non-pension) total wealth',\n",
    "                 'Employment income per week', 'Number of difficulties in ADL', 'Self-assessed health poor or fair',\n",
    "                 'Has diagnosed cardiovascular diseases', 'Has diagnosed non-cardiovascular diseases',\n",
    "                 'Likelihood of being alive', 'Likelihood of working', 'Likelihood that health limits ability to work']"
   ]
  },
  {
   "cell_type": "code",
   "execution_count": 6,
   "metadata": {
    "ExecuteTime": {
     "end_time": "2023-11-30T11:41:36.153375Z",
     "start_time": "2023-11-30T11:41:36.144571Z"
    },
    "collapsed": false
   },
   "outputs": [
    {
     "name": "stdout",
     "output_type": "stream",
     "text": [
      "\\begin{tabular}{lrr}\n",
      "\\toprule\n",
      "treatment & Employed & Retired \\\\\n",
      "\\midrule\n",
      "Female & 0.50 & 0.54 \\\\\n",
      "Age in year 2002 & 54.59 & 59.67 \\\\\n",
      "Married or cohabiting & 0.82 & 0.79 \\\\\n",
      "Has grandchildren & 0.37 & 0.57 \\\\\n",
      "Country of birth outside the UK & 0.05 & 0.05 \\\\\n",
      "University degree & 0.19 & 0.11 \\\\\n",
      "Higher education below degree & 0.16 & 0.15 \\\\\n",
      "A levels & 0.10 & 0.08 \\\\\n",
      "O levels & 0.22 & 0.24 \\\\\n",
      "No qualification & 0.21 & 0.29 \\\\\n",
      "Number of years worked in current job & 11.27 & 14.67 \\\\\n",
      "Current job is permanent & 0.95 & 0.92 \\\\\n",
      "1-30h work per week at current job & 0.25 & 0.44 \\\\\n",
      "Will reach state pension age at wave 2 interview & 0.10 & 0.55 \\\\\n",
      "Has been offered early retirement incentives & 0.04 & 0.09 \\\\\n",
      "Has defined benefit pension scheme & 0.39 & 0.46 \\\\\n",
      "Has defined contribution pension scheme & 0.35 & 0.19 \\\\\n",
      "Has any private pension scheme & 0.76 & 0.66 \\\\\n",
      "Total pension wealth in 2002 & 185541.21 & 221342.06 \\\\\n",
      "Net (non-pension) total wealth & 220973.40 & 217536.54 \\\\\n",
      "Employment income per week & 271.51 & 231.70 \\\\\n",
      "Number of difficulties in ADL & 0.70 & 1.02 \\\\\n",
      "Self-assessed health poor or fair & 0.14 & 0.24 \\\\\n",
      "Has diagnosed cardiovascular diseases & 0.34 & 0.40 \\\\\n",
      "Has diagnosed non-cardiovascular diseases & 0.34 & 0.45 \\\\\n",
      "Likelihood of being alive & 0.66 & 0.67 \\\\\n",
      "Likelihood of working & 0.72 & 0.38 \\\\\n",
      "Likelihood that health limits ability to work & 0.39 & 0.35 \\\\\n",
      "\\bottomrule\n",
      "\\end{tabular}\n",
      "\n"
     ]
    }
   ],
   "source": [
    "print(desc_df.to_latex(float_format=\"%.2f\"))"
   ]
  },
  {
   "cell_type": "code",
   "execution_count": null,
   "metadata": {},
   "outputs": [],
   "source": []
  }
 ],
 "metadata": {
  "kernelspec": {
   "display_name": "Python 3",
   "language": "python",
   "name": "python3"
  },
  "language_info": {
   "codemirror_mode": {
    "name": "ipython",
    "version": 3
   },
   "file_extension": ".py",
   "mimetype": "text/x-python",
   "name": "python",
   "nbconvert_exporter": "python",
   "pygments_lexer": "ipython3",
   "version": "3.11.3"
  }
 },
 "nbformat": 4,
 "nbformat_minor": 0
}
